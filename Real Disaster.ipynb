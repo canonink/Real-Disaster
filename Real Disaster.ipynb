{
 "cells": [
  {
   "cell_type": "markdown",
   "id": "99d50106-4dd6-4caf-81e9-5c54e8384685",
   "metadata": {},
   "source": [
    "## 1. Introduction"
   ]
  },
  {
   "cell_type": "markdown",
   "id": "97104fce-ea4f-4b19-8d35-4e36508b2e2b",
   "metadata": {},
   "source": [
    "Dataset: The dataset is a compilation of tweets on whether is about a real disaster or not. \n",
    "\n",
    "Data size: The training dataset consist of 10873 tweets while the test dataset consist of 10875 tweets.\n",
    "|\n",
    "Dimensions: Each tweet is labeled with a binary target value, indicating whether it is about a real disaster (1) or not (0).\n",
    "\n",
    "Structure: The data includes the following columns:\n",
    "- id: Unique identifier for each tweet.\n",
    "- text: The content of the tweet.\n",
    "- location: The location where the tweet was sent from (may contain missing values).\n",
    "- keyword: A keyword from the tweet (may contain missing values).\n",
    "- target: The binary target value (1 if the tweet is about a real disaster, 0 otherwise)."
   ]
  },
  {
   "cell_type": "markdown",
   "id": "1b6a5416-65b8-498c-9b7c-d5b1b60f3bc2",
   "metadata": {},
   "source": [
    "## 2. Exploratory Data Analysis (EDA)"
   ]
  },
  {
   "cell_type": "markdown",
   "id": "eed7851f-5162-41d2-bc6e-28c381e3a611",
   "metadata": {},
   "source": [
    "In this section, I will be taking a look at the data in the form of a bar chart and doing some cleaning and preprocessing."
   ]
  },
  {
   "cell_type": "code",
   "execution_count": 1,
   "id": "1a36eb2b-660d-403f-b351-4be5bcdf8bae",
   "metadata": {},
   "outputs": [
    {
     "name": "stderr",
     "output_type": "stream",
     "text": [
      "/Users/yeoshaojie/opt/anaconda3/lib/python3.9/site-packages/scipy/__init__.py:146: UserWarning: A NumPy version >=1.16.5 and <1.23.0 is required for this version of SciPy (detected version 1.26.4\n",
      "  warnings.warn(f\"A NumPy version >={np_minversion} and <{np_maxversion}\"\n"
     ]
    }
   ],
   "source": [
    "import numpy as np\n",
    "import pandas as pd\n",
    "import matplotlib.pyplot as plt\n",
    "import seaborn as sns\n",
    "import os"
   ]
  },
  {
   "cell_type": "code",
   "execution_count": 2,
   "id": "e90583fa-fad5-444d-991a-5f2d5e866950",
   "metadata": {},
   "outputs": [],
   "source": [
    "#df_labels = pd.read_csv(\"/kaggle/input/nlp-getting-started/train.csv\", index_col=None)\n",
    "#df_samples = pd.read_csv(\"/kaggle/input/nlp-getting-started/test.csv\", index_col=None)\n",
    "df_train = pd.read_csv('/Users/yeoshaojie/Desktop/Intro to Deep Learning/Week 4/nlp-getting-started/train.csv')\n",
    "df_test = pd.read_csv('/Users/yeoshaojie/Desktop/Intro to Deep Learning/Week 4/nlp-getting-started/test.csv')"
   ]
  },
  {
   "cell_type": "code",
   "execution_count": 76,
   "id": "b08bc7d0-9d9c-4a9b-bedc-f0918b747d84",
   "metadata": {},
   "outputs": [
    {
     "data": {
      "text/html": [
       "<div>\n",
       "<style scoped>\n",
       "    .dataframe tbody tr th:only-of-type {\n",
       "        vertical-align: middle;\n",
       "    }\n",
       "\n",
       "    .dataframe tbody tr th {\n",
       "        vertical-align: top;\n",
       "    }\n",
       "\n",
       "    .dataframe thead th {\n",
       "        text-align: right;\n",
       "    }\n",
       "</style>\n",
       "<table border=\"1\" class=\"dataframe\">\n",
       "  <thead>\n",
       "    <tr style=\"text-align: right;\">\n",
       "      <th></th>\n",
       "      <th>id</th>\n",
       "      <th>keyword</th>\n",
       "      <th>location</th>\n",
       "      <th>text</th>\n",
       "      <th>target</th>\n",
       "    </tr>\n",
       "  </thead>\n",
       "  <tbody>\n",
       "    <tr>\n",
       "      <th>0</th>\n",
       "      <td>1</td>\n",
       "      <td>NaN</td>\n",
       "      <td>NaN</td>\n",
       "      <td>Our Deeds are the Reason of this #earthquake M...</td>\n",
       "      <td>1</td>\n",
       "    </tr>\n",
       "    <tr>\n",
       "      <th>1</th>\n",
       "      <td>4</td>\n",
       "      <td>NaN</td>\n",
       "      <td>NaN</td>\n",
       "      <td>Forest fire near La Ronge Sask. Canada</td>\n",
       "      <td>1</td>\n",
       "    </tr>\n",
       "    <tr>\n",
       "      <th>2</th>\n",
       "      <td>5</td>\n",
       "      <td>NaN</td>\n",
       "      <td>NaN</td>\n",
       "      <td>All residents asked to 'shelter in place' are ...</td>\n",
       "      <td>1</td>\n",
       "    </tr>\n",
       "    <tr>\n",
       "      <th>3</th>\n",
       "      <td>6</td>\n",
       "      <td>NaN</td>\n",
       "      <td>NaN</td>\n",
       "      <td>13,000 people receive #wildfires evacuation or...</td>\n",
       "      <td>1</td>\n",
       "    </tr>\n",
       "    <tr>\n",
       "      <th>4</th>\n",
       "      <td>7</td>\n",
       "      <td>NaN</td>\n",
       "      <td>NaN</td>\n",
       "      <td>Just got sent this photo from Ruby #Alaska as ...</td>\n",
       "      <td>1</td>\n",
       "    </tr>\n",
       "  </tbody>\n",
       "</table>\n",
       "</div>"
      ],
      "text/plain": [
       "   id keyword location                                               text  \\\n",
       "0   1     NaN      NaN  Our Deeds are the Reason of this #earthquake M...   \n",
       "1   4     NaN      NaN             Forest fire near La Ronge Sask. Canada   \n",
       "2   5     NaN      NaN  All residents asked to 'shelter in place' are ...   \n",
       "3   6     NaN      NaN  13,000 people receive #wildfires evacuation or...   \n",
       "4   7     NaN      NaN  Just got sent this photo from Ruby #Alaska as ...   \n",
       "\n",
       "   target  \n",
       "0       1  \n",
       "1       1  \n",
       "2       1  \n",
       "3       1  \n",
       "4       1  "
      ]
     },
     "execution_count": 76,
     "metadata": {},
     "output_type": "execute_result"
    }
   ],
   "source": [
    "df_train.head()"
   ]
  },
  {
   "cell_type": "code",
   "execution_count": 49,
   "id": "358bb245-1538-4794-aaa4-6af5b23d88f9",
   "metadata": {},
   "outputs": [
    {
     "data": {
      "text/html": [
       "<div>\n",
       "<style scoped>\n",
       "    .dataframe tbody tr th:only-of-type {\n",
       "        vertical-align: middle;\n",
       "    }\n",
       "\n",
       "    .dataframe tbody tr th {\n",
       "        vertical-align: top;\n",
       "    }\n",
       "\n",
       "    .dataframe thead th {\n",
       "        text-align: right;\n",
       "    }\n",
       "</style>\n",
       "<table border=\"1\" class=\"dataframe\">\n",
       "  <thead>\n",
       "    <tr style=\"text-align: right;\">\n",
       "      <th></th>\n",
       "      <th>id</th>\n",
       "      <th>keyword</th>\n",
       "      <th>location</th>\n",
       "      <th>text</th>\n",
       "    </tr>\n",
       "  </thead>\n",
       "  <tbody>\n",
       "    <tr>\n",
       "      <th>0</th>\n",
       "      <td>0</td>\n",
       "      <td>NaN</td>\n",
       "      <td>NaN</td>\n",
       "      <td>Just happened a terrible car crash</td>\n",
       "    </tr>\n",
       "    <tr>\n",
       "      <th>1</th>\n",
       "      <td>2</td>\n",
       "      <td>NaN</td>\n",
       "      <td>NaN</td>\n",
       "      <td>Heard about #earthquake is different cities, s...</td>\n",
       "    </tr>\n",
       "    <tr>\n",
       "      <th>2</th>\n",
       "      <td>3</td>\n",
       "      <td>NaN</td>\n",
       "      <td>NaN</td>\n",
       "      <td>there is a forest fire at spot pond, geese are...</td>\n",
       "    </tr>\n",
       "    <tr>\n",
       "      <th>3</th>\n",
       "      <td>9</td>\n",
       "      <td>NaN</td>\n",
       "      <td>NaN</td>\n",
       "      <td>Apocalypse lighting. #Spokane #wildfires</td>\n",
       "    </tr>\n",
       "    <tr>\n",
       "      <th>4</th>\n",
       "      <td>11</td>\n",
       "      <td>NaN</td>\n",
       "      <td>NaN</td>\n",
       "      <td>Typhoon Soudelor kills 28 in China and Taiwan</td>\n",
       "    </tr>\n",
       "  </tbody>\n",
       "</table>\n",
       "</div>"
      ],
      "text/plain": [
       "   id keyword location                                               text\n",
       "0   0     NaN      NaN                 Just happened a terrible car crash\n",
       "1   2     NaN      NaN  Heard about #earthquake is different cities, s...\n",
       "2   3     NaN      NaN  there is a forest fire at spot pond, geese are...\n",
       "3   9     NaN      NaN           Apocalypse lighting. #Spokane #wildfires\n",
       "4  11     NaN      NaN      Typhoon Soudelor kills 28 in China and Taiwan"
      ]
     },
     "execution_count": 49,
     "metadata": {},
     "output_type": "execute_result"
    }
   ],
   "source": [
    "df_test.head()"
   ]
  },
  {
   "cell_type": "code",
   "execution_count": 16,
   "id": "9f713591-7972-4200-9fa4-3c311489dd09",
   "metadata": {},
   "outputs": [
    {
     "name": "stdout",
     "output_type": "stream",
     "text": [
      "<class 'pandas.core.frame.DataFrame'>\n",
      "RangeIndex: 7613 entries, 0 to 7612\n",
      "Data columns (total 5 columns):\n",
      " #   Column    Non-Null Count  Dtype \n",
      "---  ------    --------------  ----- \n",
      " 0   id        7613 non-null   int64 \n",
      " 1   keyword   7552 non-null   object\n",
      " 2   location  5080 non-null   object\n",
      " 3   text      7613 non-null   object\n",
      " 4   target    7613 non-null   int64 \n",
      "dtypes: int64(2), object(3)\n",
      "memory usage: 297.5+ KB\n"
     ]
    }
   ],
   "source": [
    "df_train.info()"
   ]
  },
  {
   "cell_type": "code",
   "execution_count": 15,
   "id": "b01f3422-c3c3-4d57-96cb-2de8172503fe",
   "metadata": {},
   "outputs": [
    {
     "name": "stdout",
     "output_type": "stream",
     "text": [
      "<class 'pandas.core.frame.DataFrame'>\n",
      "RangeIndex: 3263 entries, 0 to 3262\n",
      "Data columns (total 4 columns):\n",
      " #   Column    Non-Null Count  Dtype \n",
      "---  ------    --------------  ----- \n",
      " 0   id        3263 non-null   int64 \n",
      " 1   keyword   3237 non-null   object\n",
      " 2   location  2158 non-null   object\n",
      " 3   text      3263 non-null   object\n",
      "dtypes: int64(1), object(3)\n",
      "memory usage: 102.1+ KB\n"
     ]
    }
   ],
   "source": [
    "df_test.info()"
   ]
  },
  {
   "cell_type": "code",
   "execution_count": 28,
   "id": "196f4f14-3e18-415f-b556-d2db9ee32560",
   "metadata": {},
   "outputs": [
    {
     "name": "stdout",
     "output_type": "stream",
     "text": [
      "id             0\n",
      "keyword       61\n",
      "location    2533\n",
      "text           0\n",
      "target         0\n",
      "length         0\n",
      "dtype: int64\n"
     ]
    }
   ],
   "source": [
    "# Check for missing values\n",
    "missing_values = df_train.isnull().sum()\n",
    "print(missing_values)"
   ]
  },
  {
   "cell_type": "code",
   "execution_count": 27,
   "id": "d4f30cbb-25a7-4d01-8fe2-f69499436538",
   "metadata": {},
   "outputs": [
    {
     "name": "stdout",
     "output_type": "stream",
     "text": [
      "id             0\n",
      "keyword       26\n",
      "location    1105\n",
      "text           0\n",
      "length         0\n",
      "dtype: int64\n"
     ]
    }
   ],
   "source": [
    "# Check for missing values\n",
    "missing_values = df_test.isnull().sum()\n",
    "print(missing_values)"
   ]
  },
  {
   "cell_type": "code",
   "execution_count": 29,
   "id": "ad7df2d7-ba0d-40e7-a0c4-6c5dd1f3ae7f",
   "metadata": {},
   "outputs": [
    {
     "name": "stdout",
     "output_type": "stream",
     "text": [
      "Train Shape = (7613, 6)\n",
      "Test Shape = (3263, 5)\n"
     ]
    }
   ],
   "source": [
    "print('Train Shape = {}'.format(df_train.shape))\n",
    "print('Test Shape = {}'.format(df_test.shape))"
   ]
  },
  {
   "cell_type": "code",
   "execution_count": 44,
   "id": "1de656d5-ba4c-4cd9-86df-6a86724f011f",
   "metadata": {},
   "outputs": [
    {
     "data": {
      "image/png": "[encoded data removed]",
      "text/plain": [
       "<Figure size 576x432 with 1 Axes>"
      ]
     },
     "metadata": {
      "needs_background": "light"
     },
     "output_type": "display_data"
    }
   ],
   "source": [
    "import seaborn as sns\n",
    "import matplotlib.pyplot as plt\n",
    "\n",
    "# Plot the distribution of the target variable\n",
    "plt.figure(figsize=(8, 6))\n",
    "ax = sns.countplot(x='target', data=df_train)\n",
    "plt.title('Distribution of Target Variable')\n",
    "\n",
    "# Annotate the count on top of each bar\n",
    "for p in ax.patches:\n",
    "    ax.annotate(f'{p.get_height()}', (p.get_x() + p.get_width() / 2, p.get_height()),\n",
    "                ha='center', va='center', xytext=(0, 5), textcoords='offset points')\n",
    "\n",
    "plt.show()\n"
   ]
  },
  {
   "cell_type": "code",
   "execution_count": 35,
   "id": "5472d49c-c868-4321-99f3-9b48589ae8f2",
   "metadata": {},
   "outputs": [
    {
     "name": "stdout",
     "output_type": "stream",
     "text": [
      "fatalities     45\n",
      "deluge         42\n",
      "armageddon     42\n",
      "sinking        41\n",
      "damage         41\n",
      "harm           41\n",
      "body%20bags    41\n",
      "outbreak       40\n",
      "evacuate       40\n",
      "fear           40\n",
      "Name: keyword, dtype: int64\n",
      "USA                104\n",
      "New York            71\n",
      "United States       50\n",
      "London              45\n",
      "Canada              29\n",
      "Nigeria             28\n",
      "UK                  27\n",
      "Los Angeles, CA     26\n",
      "India               24\n",
      "Mumbai              22\n",
      "Name: location, dtype: int64\n"
     ]
    }
   ],
   "source": [
    "# Most common keywords\n",
    "common_keywords = df_train['keyword'].value_counts().head(10)\n",
    "print(common_keywords)\n",
    "\n",
    "# Most common locations\n",
    "common_locations = df_train['location'].value_counts().head(10)\n",
    "print(common_locations)\n"
   ]
  },
  {
   "cell_type": "code",
   "execution_count": 42,
   "id": "3a147924-f8db-450a-b957-c3f2a85fcc61",
   "metadata": {},
   "outputs": [
    {
     "data": {
      "image/png": "[encoded data removed]",
      "text/plain": [
       "<Figure size 432x288 with 1 Axes>"
      ]
     },
     "metadata": {
      "needs_background": "light"
     },
     "output_type": "display_data"
    },
    {
     "data": {
      "image/png": "[encoded data removed]",
      "text/plain": [
       "<Figure size 432x288 with 1 Axes>"
      ]
     },
     "metadata": {
      "needs_background": "light"
     },
     "output_type": "display_data"
    }
   ],
   "source": [
    "# Distribution of tweets by common keywords\n",
    "sns.countplot(y='keyword', data=df_train, order=df_train['keyword'].value_counts().iloc[:10].index)\n",
    "plt.title('Top 10 Keywords')\n",
    "plt.show()\n",
    "\n",
    "# Distribution of tweets by common locations\n",
    "sns.countplot(y='location', data=df_train, order=df_train['location'].value_counts().iloc[:10].index)\n",
    "plt.title('Top 10 Locations')\n",
    "plt.show()"
   ]
  },
  {
   "cell_type": "code",
   "execution_count": 38,
   "id": "9685cbfd-1317-4a21-a175-9b4bdb68555b",
   "metadata": {},
   "outputs": [
    {
     "name": "stdout",
     "output_type": "stream",
     "text": [
      "Train Length Stat\n",
      "count    7613.000000\n",
      "mean      101.037436\n",
      "std        33.781325\n",
      "min         7.000000\n",
      "25%        78.000000\n",
      "50%       107.000000\n",
      "75%       133.000000\n",
      "max       157.000000\n",
      "Name: length, dtype: float64\n",
      "\n"
     ]
    }
   ],
   "source": [
    "#find distribution of length\n",
    "df_train[\"length\"] = df_train[\"text\"].apply(lambda x : len(x))\n",
    "df_test[\"length\"] = df_test[\"text\"].apply(lambda x : len(x))\n",
    "\n",
    "print(\"Train Length Stat\")\n",
    "print(df_train[\"length\"].describe())\n",
    "print()"
   ]
  },
  {
   "cell_type": "code",
   "execution_count": 46,
   "id": "3dacac00-bde0-49b6-88b0-6872386d3c84",
   "metadata": {},
   "outputs": [
    {
     "data": {
      "image/png": "[encoded data removed]",
      "text/plain": [
       "<Figure size 432x288 with 1 Axes>"
      ]
     },
     "metadata": {
      "needs_background": "light"
     },
     "output_type": "display_data"
    }
   ],
   "source": [
    "# Add a column for tweet lengths\n",
    "df_train['tweet_length'] = df_train['text'].apply(len)\n",
    "\n",
    "# Plot the histogram of tweet lengths\n",
    "plt.hist(df_train['tweet_length'], bins=30, edgecolor='k')\n",
    "plt.title('Histogram of Tweet Lengths')\n",
    "plt.xlabel('Tweet Length')\n",
    "plt.ylabel('Frequency')\n",
    "plt.show()"
   ]
  },
  {
   "cell_type": "markdown",
   "id": "0dce1ba4-2f31-4dc0-b531-95c657aaea60",
   "metadata": {},
   "source": [
    "## 3. Model Architecture"
   ]
  },
  {
   "cell_type": "markdown",
   "id": "07775a4b-e1a9-4a0c-89e1-d0fb664a7f8a",
   "metadata": {},
   "source": [
    "GloVe embeddings provide a rich semantic understanding of words and help the model capture the context and meaning of words in tweets. Tweets are short texts where context from both directions is important, and the bidirectional LSTM captures dependencies from both past and future contexts. \n",
    "\n",
    "Dropout layers prevent overfitting, especially with small datasets, and spatial dropout in the embedding layer and standard dropout in dense layers help generalize the model. The dense layer with ReLU activation learns complex interactions between features and provides non-linear transformations for better feature representation. The sigmoid activation function in the final layer is suitable for binary classification and converts the output into a probability ranging from 0 to 1."
   ]
  },
  {
   "cell_type": "code",
   "execution_count": 28,
   "id": "a02250fc-592b-4297-84c5-7fb42b65f60e",
   "metadata": {},
   "outputs": [],
   "source": [
    "from sklearn.model_selection import train_test_split\n",
    "from sklearn.feature_extraction.text import TfidfVectorizer\n",
    "from tensorflow.keras.preprocessing.text import Tokenizer\n",
    "from tensorflow.keras.preprocessing.sequence import pad_sequences\n",
    "from tensorflow.keras.models import Sequential\n",
    "from tensorflow.keras.layers import Dense, LSTM, Embedding, SpatialDropout1D, Bidirectional, Dropout\n",
    "from tensorflow.keras.optimizers import Adam\n",
    "from tensorflow.keras.callbacks import EarlyStopping\n",
    "from tensorflow.keras.wrappers.scikit_learn import KerasClassifier\n",
    "from sklearn.model_selection import GridSearchCV\n",
    "from sklearn.model_selection import RandomizedSearchCV\n",
    "import re"
   ]
  },
  {
   "cell_type": "code",
   "execution_count": 7,
   "id": "97ccbd32-2ec4-4991-a2f1-c434c143584d",
   "metadata": {},
   "outputs": [],
   "source": [
    "# Advanced text preprocessing\n",
    "def clean_text(text):\n",
    "    text = re.sub(r'http\\S+', '', text)  # remove URLs\n",
    "    text = re.sub(r'@\\w+', '', text)     # remove mentions\n",
    "    text = re.sub(r'#\\w+', '', text)     # remove hashtags\n",
    "    text = re.sub(r'\\d+', '', text)      # remove numbers\n",
    "    text = re.sub(r'[^\\w\\s]', '', text)  # remove punctuation\n",
    "    text = text.lower().strip()          # convert to lowercase\n",
    "    return text"
   ]
  },
  {
   "cell_type": "code",
   "execution_count": 8,
   "id": "e92db1ef-00a9-410b-b937-ce15d725d730",
   "metadata": {},
   "outputs": [],
   "source": [
    "df_train['text'] = df_train['text'].apply(clean_text)\n",
    "df_test['text'] = df_test['text'].apply(clean_text)"
   ]
  },
  {
   "cell_type": "code",
   "execution_count": 9,
   "id": "df349333-68bd-46d8-9e5a-52d50da50d75",
   "metadata": {},
   "outputs": [],
   "source": [
    "# Tokenize the text\n",
    "tokenizer = Tokenizer(num_words=5000)\n",
    "tokenizer.fit_on_texts(df_train['text'])\n",
    "X_train = tokenizer.texts_to_sequences(df_train['text'])\n",
    "X_test = tokenizer.texts_to_sequences(df_test['text'])"
   ]
  },
  {
   "cell_type": "code",
   "execution_count": 10,
   "id": "cdc17837-002b-4ea4-9bc7-a6215d377a4f",
   "metadata": {},
   "outputs": [],
   "source": [
    "# Pad sequences\n",
    "max_len = 100\n",
    "X_train = pad_sequences(X_train, padding='post', maxlen=max_len)\n",
    "X_test = pad_sequences(X_test, padding='post', maxlen=max_len)"
   ]
  },
  {
   "cell_type": "code",
   "execution_count": 11,
   "id": "4e9ef6cc-041c-4bd2-a35a-c0b4847545db",
   "metadata": {},
   "outputs": [],
   "source": [
    "# Prepare target variable\n",
    "y_train = df_train['target']\n",
    "\n",
    "# Split the training data for validation\n",
    "X_train, X_val, y_train, y_val = train_test_split(X_train, y_train, test_size=0.2, random_state=42)"
   ]
  },
  {
   "cell_type": "code",
   "execution_count": 15,
   "id": "0305b19d-25c9-41be-a898-47985155618c",
   "metadata": {},
   "outputs": [],
   "source": [
    "# Load GloVe embeddings\n",
    "def load_glove_embeddings(glove_file):\n",
    "    embeddings_index = {}\n",
    "    with open(glove_file, encoding='utf-8') as f:\n",
    "        for line in f:\n",
    "            values = line.split()\n",
    "            word = values[0]\n",
    "            coefs = np.asarray(values[1:], dtype='float32')\n",
    "            embeddings_index[word] = coefs\n",
    "    return embeddings_index\n",
    "\n",
    "glove_file = '/Users/yeoshaojie/Desktop/Intro to Deep Learning/Week 4/glove.twitter.27B/glove.twitter.27B.100d.txt'\n",
    "embeddings_index = load_glove_embeddings(glove_file)"
   ]
  },
  {
   "cell_type": "code",
   "execution_count": 16,
   "id": "909c7cc1-9142-4870-b0e0-b85254dc2569",
   "metadata": {},
   "outputs": [],
   "source": [
    "# Create embedding matrix\n",
    "embedding_dim = 100\n",
    "embedding_matrix = np.zeros((5000, embedding_dim))\n",
    "for word, i in tokenizer.word_index.items():\n",
    "    if i < 5000:\n",
    "        embedding_vector = embeddings_index.get(word)\n",
    "        if embedding_vector is not None:\n",
    "            embedding_matrix[i] = embedding_vector\n"
   ]
  },
  {
   "cell_type": "code",
   "execution_count": 24,
   "id": "a15c4dcd-b50f-457f-b01a-8d993fd6f8e4",
   "metadata": {},
   "outputs": [],
   "source": [
    "# Define the model architecture with GloVe embeddings\n",
    "def create_model(dropout_rate=0.3, optimizer='adam', learning_rate=0.001):\n",
    "    model = Sequential()\n",
    "    model.add(Embedding(input_dim=5000, output_dim=embedding_dim, input_length=max_len,\n",
    "                        weights=[embedding_matrix], trainable=False))\n",
    "    model.add(SpatialDropout1D(dropout_rate))\n",
    "    model.add(Bidirectional(LSTM(128, dropout=dropout_rate, recurrent_dropout=dropout_rate)))\n",
    "    model.add(Dense(64, activation='relu'))\n",
    "    model.add(Dropout(dropout_rate))\n",
    "    model.add(Dense(1, activation='sigmoid'))\n",
    "    \n",
    "    opt = Adam(learning_rate=learning_rate) if isinstance(optimizer, str) else optimizer\n",
    "    model.compile(loss='binary_crossentropy', optimizer=opt, metrics=['accuracy'])\n",
    "    return model\n"
   ]
  },
  {
   "cell_type": "code",
   "execution_count": 25,
   "id": "d6eb6a50-8caf-47db-8cf6-9c24a2d78ceb",
   "metadata": {},
   "outputs": [
    {
     "name": "stderr",
     "output_type": "stream",
     "text": [
      "/var/folders/h7/rjxfnnp10yndkbddd9yv8l8m0000gn/T/ipykernel_74884/807001069.py:2: DeprecationWarning: KerasClassifier is deprecated, use Sci-Keras (https://github.com/adriangb/scikeras) instead. See https://www.adriangb.com/scikeras/stable/migration.html for help migrating.\n",
      "  model = KerasClassifier(build_fn=create_model, verbose=0)\n"
     ]
    }
   ],
   "source": [
    "# Wrap the model using the function you created\n",
    "model = KerasClassifier(build_fn=create_model, verbose=0)"
   ]
  },
  {
   "cell_type": "code",
   "execution_count": 26,
   "id": "ab287230-81d8-4e53-a1ac-6ef259c54a20",
   "metadata": {},
   "outputs": [],
   "source": [
    "# Define the grid search parameters\n",
    "param_grid = {\n",
    "    'batch_size': [32, 64],\n",
    "    'epochs': [10],\n",
    "    'dropout_rate': [0.2],\n",
    "    'optimizer': ['adam', Adam(learning_rate=0.001)]\n",
    "}\n"
   ]
  },
  {
   "cell_type": "code",
   "execution_count": 29,
   "id": "a78a34dd-d71b-40cc-94f6-e587d0025cd9",
   "metadata": {},
   "outputs": [
    {
     "name": "stderr",
     "output_type": "stream",
     "text": [
      "/Users/yeoshaojie/opt/anaconda3/lib/python3.9/site-packages/scipy/__init__.py:146: UserWarning: A NumPy version >=1.16.5 and <1.23.0 is required for this version of SciPy (detected version 1.26.4\n",
      "  warnings.warn(f\"A NumPy version >={np_minversion} and <{np_maxversion}\"\n",
      "/Users/yeoshaojie/opt/anaconda3/lib/python3.9/site-packages/scipy/__init__.py:146: UserWarning: A NumPy version >=1.16.5 and <1.23.0 is required for this version of SciPy (detected version 1.26.4\n",
      "  warnings.warn(f\"A NumPy version >={np_minversion} and <{np_maxversion}\"\n",
      "/Users/yeoshaojie/opt/anaconda3/lib/python3.9/site-packages/scipy/__init__.py:146: UserWarning: A NumPy version >=1.16.5 and <1.23.0 is required for this version of SciPy (detected version 1.26.4\n",
      "  warnings.warn(f\"A NumPy version >={np_minversion} and <{np_maxversion}\"\n",
      "/Users/yeoshaojie/opt/anaconda3/lib/python3.9/site-packages/scipy/__init__.py:146: UserWarning: A NumPy version >=1.16.5 and <1.23.0 is required for this version of SciPy (detected version 1.26.4\n",
      "  warnings.warn(f\"A NumPy version >={np_minversion} and <{np_maxversion}\"\n",
      "2024-05-27 14:27:51.491936: I tensorflow/core/platform/cpu_feature_guard.cc:151] This TensorFlow binary is optimized with oneAPI Deep Neural Network Library (oneDNN) to use the following CPU instructions in performance-critical operations:  AVX2 FMA\n",
      "To enable them in other operations, rebuild TensorFlow with the appropriate compiler flags.\n",
      "2024-05-27 14:27:51.491956: I tensorflow/core/platform/cpu_feature_guard.cc:151] This TensorFlow binary is optimized with oneAPI Deep Neural Network Library (oneDNN) to use the following CPU instructions in performance-critical operations:  AVX2 FMA\n",
      "To enable them in other operations, rebuild TensorFlow with the appropriate compiler flags.\n",
      "2024-05-27 14:27:51.493113: I tensorflow/core/platform/cpu_feature_guard.cc:151] This TensorFlow binary is optimized with oneAPI Deep Neural Network Library (oneDNN) to use the following CPU instructions in performance-critical operations:  AVX2 FMA\n",
      "To enable them in other operations, rebuild TensorFlow with the appropriate compiler flags.\n",
      "2024-05-27 14:27:51.494949: I tensorflow/core/platform/cpu_feature_guard.cc:151] This TensorFlow binary is optimized with oneAPI Deep Neural Network Library (oneDNN) to use the following CPU instructions in performance-critical operations:  AVX2 FMA\n",
      "To enable them in other operations, rebuild TensorFlow with the appropriate compiler flags.\n",
      "2024-05-27 14:40:00.825195: I tensorflow/core/platform/cpu_feature_guard.cc:151] This TensorFlow binary is optimized with oneAPI Deep Neural Network Library (oneDNN) to use the following CPU instructions in performance-critical operations:  AVX2 FMA\n",
      "To enable them in other operations, rebuild TensorFlow with the appropriate compiler flags.\n"
     ]
    }
   ],
   "source": [
    "# Create Randomized Search\n",
    "random_search = RandomizedSearchCV(estimator=model, param_distributions=param_grid, n_iter=4, n_jobs=-1, cv=3)\n",
    "\n",
    "# Use a smaller subset of the data for tuning\n",
    "X_train_small, _, y_train_small, _ = train_test_split(X_train, y_train, test_size=0.8, random_state=42)\n",
    "\n",
    "# Perform` the random search on the smaller dataset\n",
    "random_search_result = random_search.fit(X_train_small, y_train_small)"
   ]
  },
  {
   "cell_type": "code",
   "execution_count": 31,
   "id": "d04f482f-e823-4ae4-a389-510c77225654",
   "metadata": {},
   "outputs": [
    {
     "name": "stdout",
     "output_type": "stream",
     "text": [
      "Best: 0.7676518758138021 using {'optimizer': <keras.optimizer_v2.adam.Adam object at 0x7fadd611a550>, 'epochs': 10, 'dropout_rate': 0.2, 'batch_size': 32}\n"
     ]
    }
   ],
   "source": [
    "# Summarize the results\n",
    "best_score = random_search_result.best_score_\n",
    "best_params = random_search_result.best_params_\n",
    "\n",
    "# Print the best parameters and score\n",
    "print(f\"Best: {best_score} using {best_params}\")"
   ]
  },
  {
   "cell_type": "markdown",
   "id": "7b079a69-6a62-4c05-b00f-244fb90a3b9a",
   "metadata": {},
   "source": [
    "## 4. Results and Analysis"
   ]
  },
  {
   "cell_type": "code",
   "execution_count": 58,
   "id": "24b08ad4-4770-4732-a530-bf56209fdc16",
   "metadata": {},
   "outputs": [
    {
     "name": "stdout",
     "output_type": "stream",
     "text": [
      "Epoch 1/10\n",
      "191/191 [==============================] - 300s 1s/step - loss: 0.5128 - accuracy: 0.7552 - val_loss: 0.4564 - val_accuracy: 0.7991\n",
      "Epoch 2/10\n",
      "191/191 [==============================] - 226s 1s/step - loss: 0.4709 - accuracy: 0.7872 - val_loss: 0.4466 - val_accuracy: 0.7912\n",
      "Epoch 3/10\n",
      "191/191 [==============================] - 214s 1s/step - loss: 0.4518 - accuracy: 0.7977 - val_loss: 0.4553 - val_accuracy: 0.8004\n",
      "Epoch 4/10\n",
      "191/191 [==============================] - 214s 1s/step - loss: 0.4413 - accuracy: 0.8016 - val_loss: 0.4376 - val_accuracy: 0.7925\n",
      "Epoch 5/10\n",
      "191/191 [==============================] - 238s 1s/step - loss: 0.4302 - accuracy: 0.8048 - val_loss: 0.4233 - val_accuracy: 0.8155\n",
      "Epoch 6/10\n",
      "191/191 [==============================] - 252s 1s/step - loss: 0.4302 - accuracy: 0.8097 - val_loss: 0.4238 - val_accuracy: 0.8221\n",
      "Epoch 7/10\n",
      "191/191 [==============================] - 266s 1s/step - loss: 0.4148 - accuracy: 0.8141 - val_loss: 0.4232 - val_accuracy: 0.8194\n",
      "Epoch 8/10\n",
      "191/191 [==============================] - 242s 1s/step - loss: 0.4108 - accuracy: 0.8189 - val_loss: 0.4689 - val_accuracy: 0.7932\n",
      "Epoch 9/10\n",
      "191/191 [==============================] - 237s 1s/step - loss: 0.3943 - accuracy: 0.8241 - val_loss: 0.4240 - val_accuracy: 0.8201\n",
      "Epoch 10/10\n",
      "191/191 [==============================] - 196s 1s/step - loss: 0.3779 - accuracy: 0.8363 - val_loss: 0.4380 - val_accuracy: 0.8168\n"
     ]
    }
   ],
   "source": [
    "# Train the final model with the best parameters on the full training data\n",
    "final_model = create_model(dropout_rate=best_params['dropout_rate'], optimizer=best_params['optimizer'])\n",
    "history = final_model.fit(X_train, y_train, epochs=best_params['epochs'], batch_size=best_params['batch_size'],\n",
    "                          validation_data=(X_val, y_val), verbose=1)\n"
   ]
  },
  {
   "cell_type": "code",
   "execution_count": 59,
   "id": "41ee605c-bbca-43b4-b566-49ad8fb15caf",
   "metadata": {},
   "outputs": [],
   "source": [
    "# Evaluate the model on the validation set\n",
    "val_loss, val_accuracy = final_model.evaluate(X_val, y_val, verbose=0)\n",
    "\n",
    "# Predict on the validation set\n",
    "y_val_pred_proba = final_model.predict(X_val)\n",
    "y_val_pred = (y_val_pred_proba > 0.5).astype(int)\n",
    "\n",
    "# Prepare test predictions for submission\n",
    "test_predictions = final_model.predict(X_test)\n",
    "test_predictions = (test_predictions > 0.5).astype(int)\n",
    "df_test['target'] = test_predictions\n",
    "\n",
    "# Save the predictions in the required format\n",
    "df_test[['id', 'target']].to_csv('/Users/yeoshaojie/Desktop/Intro to Deep Learning/Week 4/nlp-getting-started/sample_submission.csv', index=False)\n",
    "\n",
    "\n"
   ]
  },
  {
   "cell_type": "code",
   "execution_count": 60,
   "id": "f6bb10d6-9f94-4ff2-a3e4-1e47af80384c",
   "metadata": {},
   "outputs": [
    {
     "name": "stdout",
     "output_type": "stream",
     "text": [
      "Validation Loss: 0.43802207708358765\n",
      "Validation Accuracy: 0.8168089389801025\n",
      "   id  target\n",
      "0   0       1\n",
      "1   2       0\n",
      "2   3       1\n",
      "3   9       0\n",
      "4  11       1\n"
     ]
    }
   ],
   "source": [
    "# Print summary results\n",
    "print(f\"Validation Loss: {val_loss}\")\n",
    "print(f\"Validation Accuracy: {val_accuracy}\")\n",
    "print(df_test[['id', 'target']].head())"
   ]
  },
  {
   "cell_type": "code",
   "execution_count": 61,
   "id": "9a0cdf98-7099-41b1-85cd-085645f5fc37",
   "metadata": {},
   "outputs": [
    {
     "data": {
      "image/png": "[encoded data removed]",
      "text/plain": [
       "<Figure size 864x432 with 1 Axes>"
      ]
     },
     "metadata": {
      "needs_background": "light"
     },
     "output_type": "display_data"
    },
    {
     "data": {
      "image/png": "[encoded data removed]",
      "text/plain": [
       "<Figure size 864x432 with 1 Axes>"
      ]
     },
     "metadata": {
      "needs_background": "light"
     },
     "output_type": "display_data"
    }
   ],
   "source": [
    "\n",
    "# Plot # Plot training & validation loss values\n",
    "plt.figure(figsize=(12, 6))\n",
    "plt.plot(history.history['loss'])\n",
    "plt.plot(history.history['val_loss'])\n",
    "plt.title('Model loss')\n",
    "plt.ylabel('Loss')\n",
    "plt.xlabel('Epoch')\n",
    "plt.legend(['Train', 'Validation'], loc='upper right')\n",
    "plt.show()\n",
    "\n",
    "# Plot training & validation accuracy values\n",
    "plt.figure(figsize=(12, 6))\n",
    "plt.plot(history.history['accuracy'])\n",
    "plt.plot(history.history['val_accuracy'])\n",
    "plt.title('Model accuracy')\n",
    "plt.ylabel('Accuracy')\n",
    "plt.xlabel('Epoch')\n",
    "plt.legend(['Train', 'Validation'], loc='upper left')\n",
    "plt.show()\n",
    "\n"
   ]
  },
  {
   "cell_type": "code",
   "execution_count": 64,
   "id": "ec3716e5-f74f-405a-8755-af4b6be4a2eb",
   "metadata": {},
   "outputs": [
    {
     "data": {
      "image/png": "[encoded data removed]",
      "text/plain": [
       "<Figure size 432x288 with 2 Axes>"
      ]
     },
     "metadata": {
      "needs_background": "light"
     },
     "output_type": "display_data"
    }
   ],
   "source": [
    "from sklearn.metrics import confusion_matrix, ConfusionMatrixDisplay, roc_curve, auc\n",
    "# Predict on the validation set\n",
    "y_val_pred = best_model.predict(X_val)\n",
    "y_val_pred = (y_val_pred > 0.5).astype(int)\n",
    "\n",
    "# Calculate confusion matrix\n",
    "conf_matrix = confusion_matrix(y_val, y_val_pred)\n",
    "disp = ConfusionMatrixDisplay(confusion_matrix=conf_matrix, display_labels=[0, 1])\n",
    "disp.plot(cmap=plt.cm.Blues)\n",
    "plt.show()\n"
   ]
  },
  {
   "cell_type": "code",
   "execution_count": 65,
   "id": "d5efeeca-242f-4788-a7f1-bfdf637a631d",
   "metadata": {},
   "outputs": [
    {
     "data": {
      "image/png": "[encoded data removed]",
      "text/plain": [
       "<Figure size 864x432 with 1 Axes>"
      ]
     },
     "metadata": {
      "needs_background": "light"
     },
     "output_type": "display_data"
    }
   ],
   "source": [
    "# ROC Curve\n",
    "# Predict on the validation set\n",
    "y_val_pred_proba = best_model.predict(X_val)\n",
    "y_val_pred = (y_val_pred_proba > 0.5).astype(int)\n",
    "\n",
    "fpr, tpr, _ = roc_curve(y_val, y_val_pred_proba)\n",
    "roc_auc = auc(fpr, tpr)\n",
    "\n",
    "plt.figure(figsize=(12, 6))\n",
    "plt.plot(fpr, tpr, color='blue', lw=2, label='ROC curve (area = %0.2f)' % roc_auc)\n",
    "plt.plot([0, 1], [0, 1], color='gray', lw=2, linestyle='--')\n",
    "plt.xlim([0.0, 1.0])\n",
    "plt.ylim([0.0, 1.05])\n",
    "plt.xlabel('False Positive Rate')\n",
    "plt.ylabel('True Positive Rate')\n",
    "plt.title('Receiver Operating Characteristic (ROC) Curve')\n",
    "plt.legend(loc=\"lower right\")\n",
    "plt.show()\n"
   ]
  },
  {
   "cell_type": "markdown",
   "id": "77a1e2c7-8adf-4521-babd-46c0e64f626d",
   "metadata": {},
   "source": [
    "## 5. Conclusion\n",
    "### Discussion and Interpretation\n",
    "1. Validation Metrics:\n",
    "    - The validation loss of 0.438 and accuracy of approximately 0.817 indicate a reasonably good performance of the model. However, there is still room for improvement, as indicated by the loss and accuracy metrics.\n",
    "\n",
    "\n",
    "2. Confusion Matrix:\n",
    "    - The confusion matrix reveals that the model has more true positives and true negatives compared to false positives and false negatives. However, the number of false positives (231) and false negatives (119) is still significant, suggesting that the model could be improved to better distinguish between the two classes.\n",
    "\n",
    "\n",
    "3. ROC Curve:\n",
    "    - The ROC curve shows a good performance with an AUC of 0.86. This indicates that the model has a good ability to distinguish between positive and negative classes, but there is still some overlap.\n",
    "\n",
    "\n",
    "4. Learning Curves:\n",
    "\n",
    "    - The plots for training and validation loss and accuracy over epochs suggest that the model is learning well without overfitting, as the training and validation metrics converge.\n",
    "\n",
    "\n",
    "### Learning and takeaway\n",
    "1. Effective Techniques:\n",
    "    - GloVe Embeddings: Using pre-trained GloVe embeddings helped the model to start with a better representation of words, improving its ability to understand and classify tweets accurately.\n",
    "    - Bidirectional LSTM: The use of a Bidirectional LSTM layer allowed the model to capture information from both past and future states, leading to better performance.\n",
    "    - Hyperparameter Tuning: Randomized search for hyperparameter tuning helped in finding an optimal set of parameters, contributing to the overall performance.\n",
    "    \n",
    "    \n",
    "2. Challenges and Areas for Improvement:\n",
    "\n",
    "    - Class Imbalance: Despite the model's performance, there is still a noticeable number of false positives and false negatives. Techniques like SMOTE (Synthetic Minority Over-sampling Technique) could be used to handle class imbalance.\n",
    "    - Further Tuning: More extensive hyperparameter tuning or using techniques like Bayesian Optimization might further enhance the model's performance.\n",
    "    - Ensemble Methods: Combining different models might improve the robustness and accuracy of predictions.\n",
    "    - Advanced Architectures: Exploring more advanced architectures like transformers or fine-tuning pre-trained models like BERT could potentially improve performance further.\n",
    "\n",
    "\n",
    "3. Future Improvements\n",
    "    - Handling Class Imbalance: Implement techniques like SMOTE or class weighting to address the imbalance between classes.\n",
    "    - More Advanced Models: Experiment with transformer-based models like BERT, RoBERTa, or fine-tuning a pre-trained model on this specific dataset.\n",
    "    - Ensemble Methods: Combine predictions from multiple models to improve generalization and robustness.\n",
    "    - Regularization Techniques: Implement additional regularization techniques such as L2 regularization or dropout layers in different positions to further reduce overfitting.\n",
    "    - Feature Engineering: Explore additional features such as sentiment analysis, part-of-speech tagging, or TF-IDF features alongside word embeddings to enhance model performance.\n",
    "\n",
    "\n",
    "These steps could help in further improving the model's ability to accurately classify tweets related to real disasters."
   ]
  }
 ],
 "metadata": {
  "kernelspec": {
   "display_name": "Python 3 (ipykernel)",
   "language": "python",
   "name": "python3"
  },
  "language_info": {
   "codemirror_mode": {
    "name": "ipython",
    "version": 3
   },
   "file_extension": ".py",
   "mimetype": "text/x-python",
   "name": "python",
   "nbconvert_exporter": "python",
   "pygments_lexer": "ipython3",
   "version": "3.9.12"
  }
 },
 "nbformat": 4,
 "nbformat_minor": 5
}
